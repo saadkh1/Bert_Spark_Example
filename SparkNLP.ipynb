{
 "cells": [
  {
   "cell_type": "code",
   "execution_count": null,
   "id": "d350cc4b-dc6f-4680-af3d-f818e0d1e332",
   "metadata": {},
   "outputs": [],
   "source": [
    "from pyspark.sql import SparkSession\n",
    "\n",
    "spark = SparkSession.builder \\\n",
    "    .getOrCreate()"
   ]
  },
  {
   "cell_type": "markdown",
   "id": "41f85694-1a99-43b3-8481-1868c2c37baf",
   "metadata": {},
   "source": [
    "### Example 1 (English Sentiment Analysis Opinions)"
   ]
  },
  {
   "cell_type": "code",
   "execution_count": 11,
   "id": "85921f99-25ba-4c76-a7d5-c787b3325a4e",
   "metadata": {},
   "outputs": [
    {
     "name": "stdout",
     "output_type": "stream",
     "text": [
      "Warning::Spark Session already created, some configs may not take.\n",
      "distilbert_base_sequence_classifier_food download started this may take some time.\n",
      "Approximate size to download 238.2 MB\n",
      "[OK!]\n"
     ]
    }
   ],
   "source": [
    "from pyspark.ml import Pipeline\n",
    "from sparknlp.annotator import DocumentAssembler, Tokenizer, DistilBertForSequenceClassification\n",
    "import sparknlp\n",
    "\n",
    "sparknlp.start()\n",
    "\n",
    "document_assembler = DocumentAssembler()\\\n",
    "    .setInputCol(\"opinion\")\\\n",
    "    .setOutputCol(\"document\")\n",
    "\n",
    "tokenizer = Tokenizer()\\\n",
    "    .setInputCols(\"document\")\\\n",
    "    .setOutputCol(\"token\")\n",
    "\n",
    "sequence_classifier = DistilBertForSequenceClassification.pretrained(\"distilbert_base_sequence_classifier_food\", \"en\")\\\n",
    "    .setInputCols([\"document\", \"token\"])\\\n",
    "    .setOutputCol(\"class\")\n",
    "\n",
    "sentiment_pipeline = Pipeline().setStages([document_assembler, tokenizer, sequence_classifier])"
   ]
  },
  {
   "cell_type": "code",
   "execution_count": 90,
   "id": "52ac5c83-1494-4ae0-a4e2-ce3f300c2f88",
   "metadata": {},
   "outputs": [],
   "source": [
    "from pyspark.sql.types import StructType, StructField, StringType, IntegerType, FloatType, DoubleType, TimestampType\n",
    "from pyspark.sql.functions import col\n",
    "\n",
    "schema = StructType([\n",
    "    StructField(\"Client ID\", IntegerType()),\n",
    "    StructField(\"POS ID\", IntegerType()),\n",
    "    StructField(\"pos_name\", StringType()),\n",
    "    StructField(\"Article\", StringType()),\n",
    "    StructField(\"Quantity\", FloatType()),\n",
    "    StructField(\"Unit Price\", FloatType()),\n",
    "    StructField(\"Total\", DoubleType()),\n",
    "    StructField(\"Sale Type\", StringType()),\n",
    "    StructField(\"Payment Mode\", StringType()),\n",
    "    StructField(\"opinion\", StringType()),\n",
    "    StructField(\"Sale Time\", TimestampType())\n",
    "])\n",
    "\n",
    "df = spark.read.csv(\"sales_data.csv\", header=True, sep=\",\", schema=schema)"
   ]
  },
  {
   "cell_type": "code",
   "execution_count": 13,
   "id": "bf042c89-7ebc-4c77-8668-3f68ea8c8ebc",
   "metadata": {},
   "outputs": [],
   "source": [
    "result = sentiment_pipeline \\\n",
    "        .fit(df) \\\n",
    "        .transform(df) \\\n",
    "        .select(df.columns + [col(\"class.result\").getItem(0).alias(\"sentiment\")])"
   ]
  },
  {
   "cell_type": "code",
   "execution_count": 15,
   "id": "27cee2bb-2f93-4eee-8fab-d2244440ddf8",
   "metadata": {},
   "outputs": [
    {
     "name": "stdout",
     "output_type": "stream",
     "text": [
      "+-----------------------------------------------------------------------------------------------------+---------+\n",
      "|opinion                                                                                              |sentiment|\n",
      "+-----------------------------------------------------------------------------------------------------+---------+\n",
      "|Highly recommend the restaurant for its tasty dishes and cozy atmosphere                             |Positive |\n",
      "|We ordered takeout, and the packaging was eco-friendly. Appreciated the sustainability effort        |Positive |\n",
      "|Great ambiance and friendly staff. The menu has a variety of options to choose from                  |Positive |\n",
      "|The staff was attentive, and they ensured our dietary preferences were taken into account            |Positive |\n",
      "|We tried the chef's specials, and they were a delightful surprise. Unique and delicious              |Positive |\n",
      "|The cocktails were overpriced, considering the size and alcohol content                              |Negative |\n",
      "|The menu had a good balance of classic dishes and innovative creations                               |Positive |\n",
      "|The staff was attentive to details, ensuring our preferences were taken into account                 |Positive |\n",
      "|Unfortunately, the restaurant had a limited selection of non-alcoholic beverages. More variety needed|Negative |\n",
      "|The cocktails were well-crafted and paired perfectly with the appetizers                             |Positive |\n",
      "+-----------------------------------------------------------------------------------------------------+---------+\n",
      "only showing top 10 rows\n",
      "\n"
     ]
    }
   ],
   "source": [
    "result.select(\"opinion\",\"sentiment\").show(n=10, truncate=False)"
   ]
  },
  {
   "cell_type": "markdown",
   "id": "2247c87d-b1a3-46c7-879e-251b3dc38cbc",
   "metadata": {},
   "source": [
    "### Example 2 (Arabic Sentiment Analysis Opinions)"
   ]
  },
  {
   "cell_type": "code",
   "execution_count": 80,
   "id": "9c524eea-5052-46a8-a224-7955fba7b192",
   "metadata": {},
   "outputs": [
    {
     "name": "stdout",
     "output_type": "stream",
     "text": [
      "Warning::Spark Session already created, some configs may not take.\n",
      "bert_classifier_arabic_marbert_sentiment download started this may take some time.\n",
      "Approximate size to download 583.2 MB\n",
      "[OK!]\n"
     ]
    }
   ],
   "source": [
    "from pyspark.ml import Pipeline\n",
    "from sparknlp.annotator import DocumentAssembler, Tokenizer, BertForSequenceClassification\n",
    "import sparknlp\n",
    "\n",
    "sparknlp.start()\n",
    "\n",
    "document_assembler = DocumentAssembler()\\\n",
    "    .setInputCol(\"opinion\")\\\n",
    "    .setOutputCol(\"document\")\n",
    "\n",
    "tokenizer = Tokenizer()\\\n",
    "    .setInputCols(\"document\")\\\n",
    "    .setOutputCol(\"token\")\n",
    "\n",
    "sequence_classifier = BertForSequenceClassification.pretrained(\"bert_classifier_arabic_marbert_sentiment\", \"ar\")\\\n",
    "    .setInputCols([\"document\", \"token\"])\\\n",
    "    .setOutputCol(\"class\")\n",
    "\n",
    "sentiment_pipeline = Pipeline().setStages([document_assembler, tokenizer, sequence_classifier])"
   ]
  },
  {
   "cell_type": "code",
   "execution_count": 95,
   "id": "a5d82ac6-8ac2-4108-b65f-2942f2f8bb41",
   "metadata": {},
   "outputs": [],
   "source": [
    "from pyspark.sql.types import StructType, StructField, StringType, IntegerType, FloatType, DoubleType, TimestampType\n",
    "from pyspark.sql.functions import col\n",
    "\n",
    "schema = StructType([\n",
    "    StructField(\"Client ID\", IntegerType()),\n",
    "    StructField(\"POS ID\", IntegerType()),\n",
    "    StructField(\"pos_name\", StringType()),\n",
    "    StructField(\"Article\", StringType()),\n",
    "    StructField(\"Quantity\", FloatType()),\n",
    "    StructField(\"Unit Price\", FloatType()),\n",
    "    StructField(\"Total\", DoubleType()),\n",
    "    StructField(\"Sale Type\", StringType()),\n",
    "    StructField(\"Payment Mode\", StringType()),\n",
    "    StructField(\"opinion\", StringType()),\n",
    "    StructField(\"Sale Time\", TimestampType())\n",
    "])\n",
    "\n",
    "df = spark.read.csv(\"sales_data.csv\", header=True, sep=\",\", schema=schema)"
   ]
  },
  {
   "cell_type": "code",
   "execution_count": 96,
   "id": "c560f637-1b9f-4122-b392-e9a3583d7c40",
   "metadata": {},
   "outputs": [],
   "source": [
    "result = sentiment_pipeline \\\n",
    "        .fit(df) \\\n",
    "        .transform(df) \\\n",
    "        .select(df.columns + [col(\"class.result\").getItem(0).alias(\"sentiment\")])"
   ]
  },
  {
   "cell_type": "code",
   "execution_count": 83,
   "id": "359f286a-1a47-4fc0-8b91-f5023aebab7e",
   "metadata": {},
   "outputs": [
    {
     "name": "stdout",
     "output_type": "stream",
     "text": [
      "+------------------------------------------------------------------------------------------------+---------+\n",
      "|opinion                                                                                         |sentiment|\n",
      "+------------------------------------------------------------------------------------------------+---------+\n",
      "|لقد كانت تجربة طعام رائعة. الخدمة كانت استثنائية، والطعام تجاوز توقعاتنا                        |neutral  |\n",
      "|كانت تجربة الطعام مخيبة للآمال بالكامل، حيث كانت الأطباق تفتقر إلى الطعم اللذيذ والنضارة اللازمة|negative |\n",
      "|كان للمطعم ديكور فريد وساحر. مكان عظيم لمناسبة خاصة                                             |positive |\n",
      "|كان للمطعم جو دافئ وترحاب. مثالية لعشاء مريح                                                    |positive |\n",
      "|المطعم كان جيدًا للقاءات العادية، لكنه قد لا يكون الخيار الأمثل للمناسبات الخاصة                |neutral  |\n",
      "|الطعام كان لذيذ حقا! مزيج مثالي من النكهات والقوام                                              |positive |\n",
      "|كانت الأطعمة عادية والخدمة مقبولة، لم نشعر بإحباط كبير أو إثارة كبيرة                           |neutral  |\n",
      "|لم نجد أي تجربة سلبية أو إيجابية بارزة، كانت الزيارة مجردة مناسبة                               |neutral  |\n",
      "|كان للمطعم ديكور فريد وساحر. مكان عظيم لمناسبة خاصة                                             |positive |\n",
      "|لقد شعرنا بخيبة أمل إزاء نوعية الطعام. أنها تفتقر إلى النكهة والنضارة                           |negative |\n",
      "|كانت الأطعمة عادية والخدمة مقبولة، لم نشعر بإحباط كبير أو إثارة كبيرة                           |neutral  |\n",
      "|المطعم كان جيدًا للقاءات العادية، لكنه قد لا يكون الخيار الأمثل للمناسبات الخاصة                |neutral  |\n",
      "|لم نجد أي مشكلة كبيرة في تجربتنا، كانت معقولة بشكل عام                                          |neutral  |\n",
      "|أوصي بشدة بالمطعم لأطباقه اللذيذة وأجواءه المريحة                                               |positive |\n",
      "|تجربتنا في المطعم كانت متوسطة. لم تكن الأطعمة رائعة ولكنها لم تكن سيئة أيضًا                    |neutral  |\n",
      "|كانت الأطعمة عادية والخدمة مقبولة، لم نشعر بإحباط كبير أو إثارة كبيرة                           |neutral  |\n",
      "|الأطعمة كانت عديمة الطعم والجودة. كان ذلك خيبة أمل بالنسبة لنا ولم يستحق الزيارة                |negative |\n",
      "|لقد شعرنا بخيبة أمل إزاء نوعية الطعام. أنها تفتقر إلى النكهة والنضارة                           |negative |\n",
      "|كان للمطعم جو دافئ وترحاب. مثالية لعشاء مريح                                                    |positive |\n",
      "|كانت الخدمة في المطعم مقبولة، لم يكن هناك شيء ملحوظًا سواء إيجابيًا أو سلبيًا                   |neutral  |\n",
      "+------------------------------------------------------------------------------------------------+---------+\n",
      "only showing top 20 rows\n",
      "\n"
     ]
    }
   ],
   "source": [
    "result.select(\"opinion\",\"sentiment\").show(n=20, truncate=False)"
   ]
  }
 ],
 "metadata": {
  "kernelspec": {
   "display_name": "Python 3 (ipykernel)",
   "language": "python",
   "name": "python3"
  },
  "language_info": {
   "codemirror_mode": {
    "name": "ipython",
    "version": 3
   },
   "file_extension": ".py",
   "mimetype": "text/x-python",
   "name": "python",
   "nbconvert_exporter": "python",
   "pygments_lexer": "ipython3",
   "version": "3.10.5"
  }
 },
 "nbformat": 4,
 "nbformat_minor": 5
}
